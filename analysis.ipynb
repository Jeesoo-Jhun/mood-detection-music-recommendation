{
  "nbformat": 4,
  "nbformat_minor": 0,
  "metadata": {
    "colab": {
      "provenance": [],
      "mount_file_id": "1WDelvqfhakr2jzvtXA3BykehQQSYaXcF",
      "authorship_tag": "ABX9TyNWol+/0ct84by/Ke7BXIXM",
      "include_colab_link": true
    },
    "kernelspec": {
      "name": "python3",
      "display_name": "Python 3"
    },
    "language_info": {
      "name": "python"
    }
  },
  "cells": [
    {
      "cell_type": "markdown",
      "metadata": {
        "id": "view-in-github",
        "colab_type": "text"
      },
      "source": [
        "<a href=\"https://colab.research.google.com/github/Jeesoo-Jhun/mood-detection-music-recommendation/blob/main/analysis.ipynb\" target=\"_parent\"><img src=\"https://colab.research.google.com/assets/colab-badge.svg\" alt=\"Open In Colab\"/></a>"
      ]
    },
    {
      "cell_type": "markdown",
      "source": [
        "# Mood Detection 😀😡😭 and Song Recommendation System 🎶\n",
        "\n",
        "## Introduction\n",
        "This project aims to combine cutting-edge facial expression recognition with personalized music recommendations. By analyzing a user's facial expressions through static images or real-time webcam input, the system classifies emotions into seven categories (angry, disgust, fear, happy, sad, surprise, neutral). Using the detected emotion, the system suggests a playlist or song tailored to the user's mood, leveraging the Spotify API.\n",
        "\n",
        "This innovative solution is poised to enhance user engagement and satisfaction in domains such as entertainment, mental health, and customer experience by delivering personalized, mood-responsive experiences.\n",
        "\n",
        "---\n",
        "\n",
        "## Overview\n",
        "This notebook is divided into two main parts:\n",
        "1. **Analysis**: Exploring and preprocessing the FER-2013 dataset, understanding class distributions, and feature engineering.\n",
        "2. **Modeling**: Building, training, and integrating an emotion detection model with Spotify's API for song recommendations.\n",
        "\n",
        "Each section is designed to systematically guide you through the data science pipeline, ensuring thorough exploration and robust model development.\n",
        "\n",
        "---\n",
        "\n",
        "## Table of Contents\n",
        "1. [Introduction](#introduction)\n",
        "2. [Overview](#overview)\n",
        "3. [Analysis](#analysis)\n",
        "   - [Dataset Inspection and Visualization](#dataset-inspection-and-visualization)\n",
        "   - [Data Preprocessing](#data-preprocessing)\n",
        "   - [Feature Engineering](#feature-engineering)\n",
        "4. [Modeling](#modeling)\n",
        "   - [Baseline Model Development](#baseline-model-development)\n",
        "   - [Model Training and Evaluation](#model-training-and-evaluation)\n",
        "   - [Real-Time Emotion Detection](#real-time-emotion-detection)\n",
        "   - [Integration with Spotify API](#integration-with-spotify-api)\n",
        "5. [Conclusion](#conclusion)\n",
        "\n",
        "---\n",
        "\n",
        "## Next Steps\n",
        "Begin with **Analysis**, focusing on exploring the FER-2013 dataset and preparing it for modeling. Follow the Table of Contents to systematically progress through the project pipeline.\n"
      ],
      "metadata": {
        "id": "Yz4O-_lS-132"
      }
    },
    {
      "cell_type": "code",
      "execution_count": null,
      "metadata": {
        "id": "hgu27FTb0yqP"
      },
      "outputs": [],
      "source": []
    }
  ]
}